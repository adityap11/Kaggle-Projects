{
  "nbformat": 4,
  "nbformat_minor": 0,
  "metadata": {
    "colab": {
      "name": "cloud_natural_language_api.ipynb",
      "provenance": [],
      "collapsed_sections": []
    },
    "kernelspec": {
      "name": "python3",
      "display_name": "Python 3"
    },
    "language_info": {
      "name": "python"
    }
  },
  "cells": [
    {
      "cell_type": "markdown",
      "source": [
        " ### What it solves?\n",
        " -reduces workload: you dont have to spend time training/optimizing models for your data\n",
        " \n",
        " -reduced infrastructure cost: gives access to models trained on a huge corpus of data, less resources spent on GPUs etc\n",
        "\n"
      ],
      "metadata": {
        "id": "e1EVxJgfsiuc"
      }
    },
    {
      "cell_type": "markdown",
      "source": [
        "### Use cases\n",
        "\n",
        "Syntax Analysis\n",
        "\n",
        "Sentiment Analysis\n",
        "\n",
        "Entity Analysis\n",
        "\n",
        "Entity Sentiment Analysis\n",
        "\n",
        "Text Classification"
      ],
      "metadata": {
        "id": "JvVbwRY0uLf2"
      }
    },
    {
      "cell_type": "markdown",
      "source": [
        "### How to use\n",
        "\n",
        "- command line\n",
        "- client libraries\n"
      ],
      "metadata": {
        "id": "UVxzrdRrumBx"
      }
    },
    {
      "cell_type": "markdown",
      "source": [
        "### Steps to use client library\n",
        "\n",
        "-Install google-cloud-language library\n",
        "\n",
        "-see code"
      ],
      "metadata": {
        "id": "vrgMM8E4vAQx"
      }
    },
    {
      "cell_type": "markdown",
      "source": [
        "### Syntax Analysis example"
      ],
      "metadata": {
        "id": "uhVFVNeZudpB"
      }
    },
    {
      "cell_type": "code",
      "execution_count": null,
      "metadata": {
        "id": "9VfE8tMLsI1r"
      },
      "outputs": [],
      "source": [
        "from google.cloud import language_v1\n",
        "\n",
        "\n",
        "# Instantiates a client\n",
        "client = language_v1.LanguageServiceClient()\n",
        "cann\n",
        "# The text to analyze\n",
        "text = \"Hello, world!\"\n",
        "document = language_v1.Document(\n",
        "    content=text, type_=language_v1.Document.Type.PLAIN_TEXT\n",
        ")\n",
        "\n",
        "# Detects the sentiment of the text\n",
        "sentiment = client.analyze_sentiment(\n",
        "    request={\"document\": document}\n",
        ").document_sentiment\n",
        "\n",
        "print(\"Text: {}\".format(text))\n",
        "print(\"Sentiment: {}, {}\".format(sentiment.score, sentiment.magnitude))"
      ]
    },
    {
      "cell_type": "markdown",
      "source": [
        "### Pricing"
      ],
      "metadata": {
        "id": "ecww752zwEr5"
      }
    },
    {
      "cell_type": "markdown",
      "source": [
        "### Drawbacks\n",
        "\n",
        "- Inflexibility: It may not work well for texts that have very idiiosyncratic language\n",
        "-no access to underlying models: cannot be tuned to a specific task\n",
        "\n",
        "-> better to use cloud AutoML Natural Language: Customised model tailored to work with the users' need, trained on user data and can therefore fit a specific task\n",
        "->training and evaluation of model completely automated"
      ],
      "metadata": {
        "id": "fg9yqIS5y5X5"
      }
    },
    {
      "cell_type": "code",
      "source": [
        ""
      ],
      "metadata": {
        "id": "nFLTon8WsgOG"
      },
      "execution_count": null,
      "outputs": []
    }
  ]
}